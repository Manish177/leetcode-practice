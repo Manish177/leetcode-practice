{
 "cells": [
  {
   "cell_type": "markdown",
   "metadata": {},
   "source": [
    "###  Q1. Given an array of integers nums and an integer target, return indices of the two numbers such that they add up to target. You may assume that each input would have exactly one solution, and you may not use the same element twice. You can return the answer in any order.\n",
    "\n",
    "### Example:\n",
    "#### Input: nums = [2,7,11,15], target = 9\n",
    "#### Output: [0,1]"
   ]
  },
  {
   "cell_type": "code",
   "execution_count": 3,
   "metadata": {},
   "outputs": [],
   "source": [
    "def twoSum(nums, target):\n",
    "    for index, num in enumerate(nums):\n",
    "        for index1, num1 in enumerate(nums[index+1:]):\n",
    "            total=num+num1\n",
    "            if total==target:\n",
    "                return [index, index+index1+1 ]"
   ]
  },
  {
   "cell_type": "markdown",
   "metadata": {},
   "source": [
    "### Q2. Given an integer x, return true if x is palindrome integer.\n",
    "\n",
    "### An integer is a palindrome when it reads the same backward as forward."
   ]
  },
  {
   "cell_type": "code",
   "execution_count": 12,
   "metadata": {},
   "outputs": [],
   "source": [
    "def isPalindrome(x):\n",
    "    x=str(x)\n",
    "    length= len(x)\n",
    "    if length==1:\n",
    "        return True\n",
    "    result=False\n",
    "    temp=-1\n",
    "    for i in str(x)[:length//2]:\n",
    "        if i==x[temp]:\n",
    "            result=True\n",
    "            temp=temp-1\n",
    "        else:\n",
    "            result=False\n",
    "            break\n",
    "    return result\n",
    "                    "
   ]
  },
  {
   "cell_type": "markdown",
   "metadata": {},
   "source": [
    "### Q3. Given an integer array nums and an integer val, remove all occurrences of val in nums in-place. The relative order of the elements may be changed."
   ]
  },
  {
   "cell_type": "code",
   "execution_count": 25,
   "metadata": {},
   "outputs": [],
   "source": [
    "def removeElement(nums, x):\n",
    "        while val in nums: \n",
    "            nums.remove(val)\n",
    "        return len(nums)"
   ]
  },
  {
   "cell_type": "code",
   "execution_count": 27,
   "metadata": {},
   "outputs": [],
   "source": [
    " def singleNumber(nums):\n",
    "        nums.sort()\n",
    "        result=nums[0]\n",
    "        for index, num in enumerate(nums[::2]):\n",
    "            if index<len(nums):\n",
    "                if num==nums[index+1]:\n",
    "                    continue\n",
    "                else:\n",
    "                    result=num\n",
    "        return result"
   ]
  },
  {
   "cell_type": "markdown",
   "metadata": {},
   "source": [
    "### Q4.Given a non-empty array of integers nums, every element appears twice except for one. Find that single one.\n",
    "\n",
    "### You must implement a solution with a linear runtime complexity and use only constant extra space."
   ]
  },
  {
   "cell_type": "code",
   "execution_count": null,
   "metadata": {},
   "outputs": [],
   "source": [
    "def singleNumber(self, nums: List[int]) -> int:\n",
    "        nums.sort()\n",
    "        result=nums[-1]\n",
    "        for num in nums[::2]:\n",
    "            if nums.index(num)+1<len(nums):\n",
    "                if num==nums[nums.index(num)+1]:\n",
    "                    continue\n",
    "                else:\n",
    "                    result=num           \n",
    "        return result"
   ]
  },
  {
   "cell_type": "markdown",
   "metadata": {},
   "source": [
    "### Q5. You are given a large integer represented as an integer array digits, where each digits[i] is the ith digit of the integer. The digits are ordered from most significant to least significant in left-to-right order. The large integer does not contain any leading 0's.\n",
    "\n",
    "### Increment the large integer by one and return the resulting array of digits."
   ]
  },
  {
   "cell_type": "code",
   "execution_count": 47,
   "metadata": {},
   "outputs": [],
   "source": [
    "def plusOne(digits):\n",
    "    digits[-1]=digits[-1]+1\n",
    "    q=0\n",
    "    r=0\n",
    "    ind=len(digits)-1\n",
    "    if len(digits)>1:\n",
    "        for i in range(len(digits)-1):\n",
    "            r=digits[ind]%10\n",
    "            q=digits[ind]//10\n",
    "            digits[ind]=r\n",
    "            print( digits[ind])\n",
    "            digits[ind-1]=digits[ind-1]+q\n",
    "            print(digits[ind-1])\n",
    "\n",
    "            ind=ind-1\n",
    "            print(digits)\n",
    "\n",
    "    print(digits)\n",
    "    if digits[0]>9:\n",
    "        r=digits[0]%10\n",
    "        q=digits[0]//10\n",
    "        digits.insert(0, r)\n",
    "        digits.insert(0, q)\n",
    "        digits.pop(2)\n",
    "    return digits"
   ]
  },
  {
   "cell_type": "markdown",
   "metadata": {},
   "source": [
    "### Q6. Write a function to find the longest common prefix string amongst an array of strings."
   ]
  },
  {
   "cell_type": "code",
   "execution_count": 65,
   "metadata": {},
   "outputs": [],
   "source": [
    "def longestCommonPrefix(strs):       \n",
    "    result=\"\"\n",
    "    if len(strs)==0:\n",
    "        return result\n",
    "    elif len(strs)==1:\n",
    "        return strs[0]\n",
    "    else:\n",
    "        mmm=min(strs, key=len)\n",
    "        for i in range(len(mmm)):\n",
    "            temp=False\n",
    "            abc=strs[0][i]\n",
    "            for j in strs[1:]:\n",
    "                if abc==j[i]:\n",
    "                    temp=True\n",
    "                else:\n",
    "                    temp=False\n",
    "                    break\n",
    "            if temp==False:\n",
    "                break\n",
    "            else:\n",
    "                result=result+abc\n",
    "        return result"
   ]
  },
  {
   "cell_type": "markdown",
   "metadata": {},
   "source": [
    "### Q7. Given a roman numeral, convert it to an integer."
   ]
  },
  {
   "cell_type": "code",
   "execution_count": 72,
   "metadata": {},
   "outputs": [],
   "source": [
    "def romanToInt(s):\n",
    "    roman = {'I':1,'V':5,'X':10,'L':50,'C':100,'D':500,'M':1000,'IV':4,'IX':9,'XL':40,'XC':90,'CD':400,'CM':900}\n",
    "    val=0\n",
    "    j=0\n",
    "    while j <len(s):\n",
    "        if s[j:j+2] in roman:\n",
    "            val=val+roman[s[j:j+2]]\n",
    "            j=j+2\n",
    "        else:\n",
    "            val=val+roman[s[j:j+1]]\n",
    "            j=j+1\n",
    "    return val"
   ]
  },
  {
   "cell_type": "markdown",
   "metadata": {},
   "source": [
    "### Q8. Given an integer array nums, find the contiguous subarray (containing at least one number) which has the largest sum and return its sum."
   ]
  },
  {
   "cell_type": "code",
   "execution_count": 75,
   "metadata": {},
   "outputs": [],
   "source": [
    "def maxSubArray(nums):\n",
    "    max=nums[0]\n",
    "    total=0\n",
    "    for i in range(len(nums)):\n",
    "        total = total + nums[i]\n",
    "        if total>max:\n",
    "            max=total\n",
    "        if total<0:\n",
    "            total=0\n",
    "    return max"
   ]
  },
  {
   "cell_type": "markdown",
   "metadata": {},
   "source": [
    "### Q9. Given a string s consisting of some words separated by some number of spaces, return the length of the last word in the string.\n",
    "\n",
    "### A word is a maximal substring consisting of non-space characters only."
   ]
  },
  {
   "cell_type": "code",
   "execution_count": 77,
   "metadata": {},
   "outputs": [],
   "source": [
    "def lengthOfLastWord(s):\n",
    "    lst=s.strip().split(\" \")\n",
    "    return len(lst[-1])"
   ]
  },
  {
   "cell_type": "markdown",
   "metadata": {},
   "source": [
    "### Q10. Given an array points where points[i] = [xi, yi] represents a point on the X-Y plane, return true if these points are a boomerang.\n",
    "\n",
    "### A boomerang is a set of three points that are all distinct and not in a straight line."
   ]
  },
  {
   "cell_type": "code",
   "execution_count": 4,
   "metadata": {},
   "outputs": [],
   "source": [
    "def isBoomerang(points):\n",
    "    num=points[0][0]*(points[1][1]-points[2][1])\n",
    "    num1=points[2][0]*(points[0][1]-points[1][1])\n",
    "    num2=points[1][0]*(points[2][1]-points[0][1])\n",
    "    result=abs(num+num1+num2)\n",
    "    if  result==0:\n",
    "        return False\n",
    "    else:\n",
    "        return True"
   ]
  },
  {
   "cell_type": "markdown",
   "metadata": {},
   "source": [
    "### Q11. A country is big if:\n",
    "\n",
    "#### it has an area of at least three million (i.e., 3000000 km2), or\n",
    "#### it has a population of at least twenty-five million (i.e., 25000000).\n",
    "#### Write an SQL query to report the name, population, and area of the big countries.\n",
    "\n",
    "#### Return the result table in any order."
   ]
  },
  {
   "cell_type": "code",
   "execution_count": null,
   "metadata": {},
   "outputs": [],
   "source": [
    "select name, population, area\n",
    "from world\n",
    "where area>=3000000 or population>=25000000"
   ]
  },
  {
   "cell_type": "markdown",
   "metadata": {},
   "source": [
    "### Q12. Given an array nums of size n, return the majority element.\n",
    "\n",
    "### The majority element is the element that appears more than ⌊n / 2⌋ times. You may assume that the majority element always exists in the array."
   ]
  },
  {
   "cell_type": "code",
   "execution_count": 6,
   "metadata": {},
   "outputs": [],
   "source": [
    "def majorityElement(nums):\n",
    "    dict={}\n",
    "    for i in nums:\n",
    "        if i in dict:\n",
    "            dict[i]=dict[i]+1\n",
    "        else:\n",
    "            dict[i]=1\n",
    "    return max(dict, key=dict.get)"
   ]
  },
  {
   "cell_type": "markdown",
   "metadata": {},
   "source": [
    "### Q13.Given a string s containing just the characters '(', ')', '{', '}', '[' and ']', determine if the input string is valid.\n",
    "\n",
    "### An input string is valid if:\n",
    "\n",
    "### Open brackets must be closed by the same type of brackets.\n",
    "### Open brackets must be closed in the correct order."
   ]
  },
  {
   "cell_type": "code",
   "execution_count": 30,
   "metadata": {},
   "outputs": [],
   "source": [
    "def isValid(s):\n",
    "    brackets={}        \n",
    "    stack = []\n",
    "    for bracket in s:\n",
    "        if bracket in brackets:\n",
    "            stack.append(brackets[bracket])\n",
    "        elif not stack or bracket != stack.pop():\n",
    "            return False\n",
    "    return not stack "
   ]
  },
  {
   "cell_type": "markdown",
   "metadata": {},
   "source": [
    "### Q14. Implement strStr().\n",
    "\n",
    "#### Given two strings needle and haystack, return the index of the first occurrence of needle in haystack, or -1 if needle is not part of haystack.\n",
    "\n",
    "### Clarification:\n",
    "\n",
    "#### What should we return when needle is an empty string? This is a great question to ask during an interview.\n",
    "\n",
    "#### For the purpose of this problem, we will return 0 when needle is an empty string. This is consistent to C's strstr() and Java's indexOf()."
   ]
  },
  {
   "cell_type": "code",
   "execution_count": 31,
   "metadata": {},
   "outputs": [],
   "source": [
    "def strStr(haystack: str, needle: str):\n",
    "    leng=len(needle)\n",
    "    if leng==0:\n",
    "        return 0\n",
    "    for i in range(len(haystack)):\n",
    "        if needle==haystack[i:leng+i]:\n",
    "            return i\n",
    "    return -1       "
   ]
  },
  {
   "cell_type": "markdown",
   "metadata": {},
   "source": [
    "### Q15. Given a non-negative integer x, compute and return the square root of x.\n",
    "\n",
    "#### Since the return type is an integer, the decimal digits are truncated, and only the integer part of the result is returned."
   ]
  },
  {
   "cell_type": "code",
   "execution_count": 35,
   "metadata": {},
   "outputs": [],
   "source": [
    "def mySqrt(x):\n",
    "    if (x == 0 or x == 1):\n",
    "        return x\n",
    "    for i in range((x//2)+1):\n",
    "        if (i+1)*(i+1)==x:\n",
    "            return i+1\n",
    "        elif (i+1)*(i+1)>x:\n",
    "            return i"
   ]
  },
  {
   "cell_type": "markdown",
   "metadata": {},
   "source": [
    "### Q16. You're given strings jewels representing the types of stones that are jewels, and stones representing the stones you have. Each character in stones is a type of stone you have. You want to know how many of the stones you have are also jewels.\n",
    "\n",
    "#### Letters are case sensitive, so \"a\" is considered a different type of stone from \"A\"."
   ]
  },
  {
   "cell_type": "code",
   "execution_count": null,
   "metadata": {},
   "outputs": [],
   "source": [
    "def numJewelsInStones(jewels, stones):\n",
    "    result=0\n",
    "    for i in jewels:\n",
    "        for j in stones:\n",
    "            if i==j:\n",
    "                result=result+1\n",
    "    return result                "
   ]
  },
  {
   "cell_type": "markdown",
   "metadata": {},
   "source": [
    "### Q17. A phrase is a palindrome if, after converting all uppercase letters into lowercase letters and removing all non-alphanumeric characters, it reads the same forward and backward. Alphanumeric characters include letters and numbers.\n",
    "\n",
    "#### Given a string s, return true if it is a palindrome, or false otherwise."
   ]
  },
  {
   "cell_type": "code",
   "execution_count": 54,
   "metadata": {},
   "outputs": [],
   "source": [
    "def isPalindrome(self, s: str) -> bool:\n",
    "    temp=\"\".join(filter(str.isalnum, s.lower()))\n",
    "    if len(temp)%2==0:\n",
    "        if temp[:len(temp)//2]==temp[-1:len(temp)//2-1:-1]:\n",
    "            return True\n",
    "        else:\n",
    "            return False\n",
    "    else:\n",
    "        if temp[:len(temp)//2]==temp[-1:len(temp)//2:-1]:\n",
    "            return True\n",
    "        else:\n",
    "            return False"
   ]
  },
  {
   "cell_type": "markdown",
   "metadata": {},
   "source": [
    "### Q18. Given two binary strings a and b, return their sum as a binary string."
   ]
  },
  {
   "cell_type": "code",
   "execution_count": 1,
   "metadata": {},
   "outputs": [],
   "source": [
    "def addBinary(a,b):\n",
    "    result=\"\"\n",
    "    carry=0\n",
    "    m=max(len(a), len(b))\n",
    "    a=a.zfill(m)\n",
    "    b=b.zfill(m)\n",
    "    for i in range(m):\n",
    "        # print(a[-(i+1)])\n",
    "        # print(b[-(i+1)])\n",
    "        if a[-(i+1)]=='1' and b[-(i+1)]=='1': \n",
    "            print(1)\n",
    "            if carry==0:\n",
    "                result=result+'0'\n",
    "            else:\n",
    "                result=result+'1'\n",
    "            carry=1\n",
    "        elif a[-(i+1)]=='0' and b[-(i+1)]=='1':\n",
    "            print(2)\n",
    "            if carry==0:\n",
    "                result=result+'1'\n",
    "                carry=0\n",
    "            else:\n",
    "                result=result+'0'\n",
    "                carry=1\n",
    "        elif a[-(i+1)]=='1' and b[-(i+1)]=='0':\n",
    "            print(3)\n",
    "            if carry==0:\n",
    "                result=result+'1'\n",
    "                carry=0\n",
    "            else:\n",
    "                result=result+'0'\n",
    "                carry=1\n",
    "        elif a[-(i+1)]=='0' and b[-(i+1)]=='0':\n",
    "            print(4)\n",
    "            if carry==0:\n",
    "                result=result+'0'\n",
    "                carry=0\n",
    "            else:\n",
    "                result=result+'1'\n",
    "                carry=0\n",
    "    if carry !=0:\n",
    "        result=result+str(carry)\n",
    "    return result[::-1]"
   ]
  },
  {
   "cell_type": "markdown",
   "metadata": {},
   "source": [
    "### Q19. You are given an array of integers stones where stones[i] is the weight of the ith stone.\n",
    "\n",
    "#### We are playing a game with the stones. On each turn, we choose the heaviest two stones and smash them together. Suppose the heaviest two stones have weights x and y with x <= y. The result of this smash is:\n",
    "\n",
    "#### If x == y, both stones are destroyed, and\n",
    "#### If x != y, the stone of weight x is destroyed, and the stone of weight y has new weight y - x.\n",
    "#### At the end of the game, there is at most one stone left.\n",
    "\n",
    "#### Return the weight of the last remaining stone. If there are no stones left, return 0."
   ]
  },
  {
   "cell_type": "code",
   "execution_count": null,
   "metadata": {},
   "outputs": [],
   "source": [
    "def lastStoneWeight(self, stones: List[int]) -> int:\n",
    "    stones.sort(reverse=True)\n",
    "    print(stones)\n",
    "    if len(stones)==1:\n",
    "        return stones[0]\n",
    "\n",
    "    while len(stones)>1:            \n",
    "        m1=max(stones)\n",
    "        stones.remove(m1)\n",
    "        m2=max(stones)\n",
    "        stones.remove(m2)\n",
    "        stones.append(m1-m2)\n",
    "    return stones[0]    "
   ]
  },
  {
   "cell_type": "code",
   "execution_count": null,
   "metadata": {},
   "outputs": [],
   "source": []
  },
  {
   "cell_type": "code",
   "execution_count": null,
   "metadata": {},
   "outputs": [],
   "source": []
  },
  {
   "cell_type": "code",
   "execution_count": null,
   "metadata": {},
   "outputs": [],
   "source": []
  },
  {
   "cell_type": "code",
   "execution_count": null,
   "metadata": {},
   "outputs": [],
   "source": []
  }
 ],
 "metadata": {
  "kernelspec": {
   "display_name": "Python 3",
   "language": "python",
   "name": "python3"
  },
  "language_info": {
   "codemirror_mode": {
    "name": "ipython",
    "version": 3
   },
   "file_extension": ".py",
   "mimetype": "text/x-python",
   "name": "python",
   "nbconvert_exporter": "python",
   "pygments_lexer": "ipython3",
   "version": "3.8.5"
  }
 },
 "nbformat": 4,
 "nbformat_minor": 4
}
